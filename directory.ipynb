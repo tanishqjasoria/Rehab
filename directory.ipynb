{
 "cells": [
  {
   "cell_type": "code",
   "execution_count": 19,
   "metadata": {},
   "outputs": [],
   "source": [
    "x = \"gaitCycle-data\"\n",
    "s7 = \"Shoes 7\"\n",
    "s8 = \"Shoes 8\"\n",
    "s9 = \"Shoes 9\"\n",
    "s10 = \"Shoes 10\""
   ]
  },
  {
   "cell_type": "code",
   "execution_count": 20,
   "metadata": {},
   "outputs": [],
   "source": [
    "level = [\"fast\", \"slow\", \"normal\"]\n",
    "datas=[]"
   ]
  },
  {
   "cell_type": "code",
   "execution_count": 21,
   "metadata": {},
   "outputs": [],
   "source": [
    "size = [7,8,9,10]\n",
    "names = [\"amit\",\"deba\",\"jp\",\"amar\",\"debp\",\"kaling\",\"abhishek\",\"pushp\",\"ritwik\",\"lin\",\"mani\",\"tanmay\"]\n",
    "name = []"
   ]
  },
  {
   "cell_type": "code",
   "execution_count": 22,
   "metadata": {},
   "outputs": [],
   "source": [
    "name = [a +\"_\"+ b for a in names for b in level]"
   ]
  },
  {
   "cell_type": "code",
   "execution_count": 23,
   "metadata": {},
   "outputs": [
    {
     "data": {
      "text/plain": [
       "['amit_fast',\n",
       " 'amit_slow',\n",
       " 'amit_normal',\n",
       " 'deba_fast',\n",
       " 'deba_slow',\n",
       " 'deba_normal',\n",
       " 'jp_fast',\n",
       " 'jp_slow',\n",
       " 'jp_normal',\n",
       " 'amar_fast',\n",
       " 'amar_slow',\n",
       " 'amar_normal',\n",
       " 'debp_fast',\n",
       " 'debp_slow',\n",
       " 'debp_normal',\n",
       " 'kaling_fast',\n",
       " 'kaling_slow',\n",
       " 'kaling_normal',\n",
       " 'abhishek_fast',\n",
       " 'abhishek_slow',\n",
       " 'abhishek_normal',\n",
       " 'pushp_fast',\n",
       " 'pushp_slow',\n",
       " 'pushp_normal',\n",
       " 'ritwik_fast',\n",
       " 'ritwik_slow',\n",
       " 'ritwik_normal',\n",
       " 'lin_fast',\n",
       " 'lin_slow',\n",
       " 'lin_normal',\n",
       " 'mani_fast',\n",
       " 'mani_slow',\n",
       " 'mani_normal',\n",
       " 'tanmay_fast',\n",
       " 'tanmay_slow',\n",
       " 'tanmay_normal']"
      ]
     },
     "execution_count": 23,
     "metadata": {},
     "output_type": "execute_result"
    }
   ],
   "source": [
    "name"
   ]
  },
  {
   "cell_type": "markdown",
   "metadata": {},
   "source": [
    "name[0]='amit_fast'\n"
   ]
  },
  {
   "cell_type": "code",
   "execution_count": 24,
   "metadata": {},
   "outputs": [],
   "source": [
    "name[0]='amit_fast'"
   ]
  },
  {
   "cell_type": "code",
   "execution_count": 25,
   "metadata": {},
   "outputs": [],
   "source": [
    "final_names =[]\n",
    "        "
   ]
  },
  {
   "cell_type": "code",
   "execution_count": 26,
   "metadata": {},
   "outputs": [],
   "source": [
    "for i in range(9):\n",
    "    final_names.append(name.pop(0) + \"_7\")\n",
    "for i in range(9):\n",
    "    final_names.append(name.pop(0) + \"_8\")\n",
    "for i in range(9):\n",
    "    final_names.append(name.pop(0) + \"_9\")\n",
    "for i in range(9):\n",
    "    final_names.append(name.pop(0) + \"_10\")"
   ]
  },
  {
   "cell_type": "code",
   "execution_count": 27,
   "metadata": {},
   "outputs": [
    {
     "data": {
      "text/plain": [
       "['amit_fast_7',\n",
       " 'amit_slow_7',\n",
       " 'amit_normal_7',\n",
       " 'deba_fast_7',\n",
       " 'deba_slow_7',\n",
       " 'deba_normal_7',\n",
       " 'jp_fast_7',\n",
       " 'jp_slow_7',\n",
       " 'jp_normal_7',\n",
       " 'amar_fast_8',\n",
       " 'amar_slow_8',\n",
       " 'amar_normal_8',\n",
       " 'debp_fast_8',\n",
       " 'debp_slow_8',\n",
       " 'debp_normal_8',\n",
       " 'kaling_fast_8',\n",
       " 'kaling_slow_8',\n",
       " 'kaling_normal_8',\n",
       " 'abhishek_fast_9',\n",
       " 'abhishek_slow_9',\n",
       " 'abhishek_normal_9',\n",
       " 'pushp_fast_9',\n",
       " 'pushp_slow_9',\n",
       " 'pushp_normal_9',\n",
       " 'ritwik_fast_9',\n",
       " 'ritwik_slow_9',\n",
       " 'ritwik_normal_9',\n",
       " 'lin_fast_10',\n",
       " 'lin_slow_10',\n",
       " 'lin_normal_10',\n",
       " 'mani_fast_10',\n",
       " 'mani_slow_10',\n",
       " 'mani_normal_10',\n",
       " 'tanmay_fast_10',\n",
       " 'tanmay_slow_10',\n",
       " 'tanmay_normal_10']"
      ]
     },
     "execution_count": 27,
     "metadata": {},
     "output_type": "execute_result"
    }
   ],
   "source": [
    "final_names"
   ]
  },
  {
   "cell_type": "code",
   "execution_count": null,
   "metadata": {},
   "outputs": [],
   "source": []
  }
 ],
 "metadata": {
  "kernelspec": {
   "display_name": "Python 3",
   "language": "python",
   "name": "python3"
  },
  "language_info": {
   "codemirror_mode": {
    "name": "ipython",
    "version": 3
   },
   "file_extension": ".py",
   "mimetype": "text/x-python",
   "name": "python",
   "nbconvert_exporter": "python",
   "pygments_lexer": "ipython3",
   "version": "3.6.4"
  }
 },
 "nbformat": 4,
 "nbformat_minor": 2
}
