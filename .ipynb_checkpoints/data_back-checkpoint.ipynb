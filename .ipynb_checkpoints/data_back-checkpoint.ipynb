{
 "cells": [
  {
   "cell_type": "code",
   "execution_count": 14,
   "metadata": {},
   "outputs": [],
   "source": [
    "import numpy as np\n",
    "import math\n",
    "file = \"/home/tanishqjasoria/Desktop/test_databack.txt\""
   ]
  },
  {
   "cell_type": "code",
   "execution_count": 15,
   "metadata": {},
   "outputs": [],
   "source": [
    "f = open(file)\n",
    "lines = []\n",
    "time = []\n",
    "t1_temp=[]\n",
    "t2_temp=[]\n",
    "k1_temp=[]\n",
    "k2_temp=[]\n",
    "w_temp=[]\n",
    "back_temp=[]\n",
    "t1=[]\n",
    "t2=[]\n",
    "k1=[]\n",
    "k2=[]\n",
    "w=[]\n",
    "back=[]\n",
    "t1_old_theta=[0,0]\n",
    "t2_old_theta=[0,0]\n",
    "k1_old_theta=[0,0]\n",
    "k2_old_theta=[0,0]\n",
    "pitch_roll=[]\n",
    "PI = 3.14159265"
   ]
  },
  {
   "cell_type": "code",
   "execution_count": 16,
   "metadata": {},
   "outputs": [],
   "source": [
    "for line in f:\n",
    "    lines.append(line) "
   ]
  },
  {
   "cell_type": "code",
   "execution_count": 17,
   "metadata": {},
   "outputs": [],
   "source": [
    "for i in range(5):\n",
    "    lines.pop(0)\n",
    "    lines.pop()"
   ]
  },
  {
   "cell_type": "code",
   "execution_count": 18,
   "metadata": {},
   "outputs": [],
   "source": [
    "for elem in lines:\n",
    "    if elem == '\\n':\n",
    "        lines.remove('\\n')"
   ]
  },
  {
   "cell_type": "code",
   "execution_count": 19,
   "metadata": {},
   "outputs": [],
   "source": [
    "for x in lines:\n",
    "    a = x.split(\"=\")\n",
    "    t1_temp=[]\n",
    "    t2_temp=[]\n",
    "    k1_temp=[]\n",
    "    k2_temp=[]\n",
    "    w_temp=[]\n",
    "    back_temp=[]\n",
    "    t1_temp.append(float(a[1].strip().split(\" \")[0]))\n",
    "    t1_temp.append(float(a[2].strip().split(\" \")[0]))\n",
    "    t1_temp.append(float(a[3].strip().split(\" \")[0]))\n",
    "    t1_temp.append((float(a[4].strip().split(\" \")[0]))/131)\n",
    "    t1_temp.append(-(float(a[5].strip().split(\" \")[0]))/131)\n",
    "    t1_temp.append((float(a[6].strip().split(\" \")[0]))/131)\n",
    "    t1_temp.append(float(a[7].strip().split(\" \")[0]))\n",
    "    t1_temp.append(float(a[8].strip().split(\" \")[0]))\n",
    "    t1_temp.append(float(a[9].strip().split(\" \")[0]))\n",
    "    t2_temp.append(float(a[10].strip().split(\" \")[0]))\n",
    "    t2_temp.append(float(a[11].strip().split(\" \")[0]))\n",
    "    t2_temp.append(float(a[12].strip().split(\" \")[0]))\n",
    "    t2_temp.append((float(a[13].strip().split(\" \")[0]))/131)\n",
    "    t2_temp.append(-(float(a[14].strip().split(\" \")[0]))/131)\n",
    "    t2_temp.append((float(a[15].strip().split(\" \")[0]))/131)\n",
    "    t2_temp.append(float(a[16].strip().split(\" \")[0]))\n",
    "    t2_temp.append(float(a[17].strip().split(\" \")[0]))\n",
    "    t2_temp.append(float(a[18].strip().split(\" \")[0]))\n",
    "    k1_temp.append(float(a[19].strip().split(\" \")[0]))\n",
    "    k1_temp.append(float(a[20].strip().split(\" \")[0]))\n",
    "    k1_temp.append(float(a[21].strip().split(\" \")[0]))\n",
    "    k1_temp.append((float(a[22].strip().split(\" \")[0]))/131)\n",
    "    k1_temp.append(-(float(a[23].strip().split(\" \")[0]))/131)\n",
    "    k1_temp.append((float(a[24].strip().split(\" \")[0]))/131)\n",
    "    k1_temp.append(float(a[25].strip().split(\" \")[0]))\n",
    "    k1_temp.append(float(a[26].strip().split(\" \")[0]))\n",
    "    k1_temp.append(float(a[27].strip().split(\" \")[0]))\n",
    "    k2_temp.append(float(a[28].strip().split(\" \")[0]))\n",
    "    k2_temp.append(float(a[29].strip().split(\" \")[0]))\n",
    "    k2_temp.append(float(a[39].strip().split(\" \")[0]))\n",
    "    k2_temp.append((float(a[31].strip().split(\" \")[0]))/131)\n",
    "    k2_temp.append(-(float(a[32].strip().split(\" \")[0]))/131)\n",
    "    k2_temp.append((float(a[33].strip().split(\" \")[0]))/131)\n",
    "    k2_temp.append(float(a[34].strip().split(\" \")[0]))\n",
    "    k2_temp.append(float(a[35].strip().split(\" \")[0]))\n",
    "    k2_temp.append(float(a[36].strip().split(\" \")[0]))\n",
    "    w_temp.append(float(a[37].strip().split(\" \")[0]))\n",
    "    w_temp.append(float(a[38].strip().split(\" \")[0]))\n",
    "    w_temp.append(float(a[39].strip().split(\" \")[0]))\n",
    "    w_temp.append(float(a[40].strip().split(\" \")[0]))\n",
    "    w_temp.append(float(a[41].strip().split(\" \")[0]))\n",
    "    back_temp.append(float(a[42].strip().split(\" \")[0]))\n",
    "    back_temp.append(float(a[43].strip().split(\" \")[0]))\n",
    "    back_temp.append(float(a[44].strip().split(\" \")[0]))\n",
    "    back_temp.append(float(a[45].strip().split(\" \")[0]))\n",
    "    back_temp.append(float(a[46].strip().split(\" \")[0]))\n",
    "    time.append(float((a[46].strip().split(\" \"))[2][4:]))\n",
    "    t1.append(t1_temp)\n",
    "    t2.append(t2_temp)\n",
    "    k1.append(k1_temp)\n",
    "    k2.append(k2_temp)\n",
    "    w.append(w_temp)\n",
    "    back.append(back_temp)"
   ]
  },
  {
   "cell_type": "code",
   "execution_count": 20,
   "metadata": {},
   "outputs": [],
   "source": [
    "time[0] = int(time[0])\n",
    "for i in range(len(time)-1):\n",
    "    time[i+1] = int(time[i+1]) + int(time[i])"
   ]
  },
  {
   "cell_type": "code",
   "execution_count": 21,
   "metadata": {},
   "outputs": [],
   "source": [
    "time = np.array(time)\n",
    "t1 = np.array(t1)\n",
    "t2 = np.array(t2)\n",
    "k1 = np.array(k1)\n",
    "k2 = np.array(k2)\n",
    "w = np.array(w)\n",
    "back = np.array(back)"
   ]
  },
  {
   "cell_type": "code",
   "execution_count": 22,
   "metadata": {},
   "outputs": [],
   "source": [
    "time = time/1000\n",
    "time = time + 0.25"
   ]
  },
  {
   "cell_type": "code",
   "execution_count": 23,
   "metadata": {},
   "outputs": [
    {
     "data": {
      "text/plain": [
       "[2, 3, 2, 3, 4, 6, 7, 8, 9]"
      ]
     },
     "execution_count": 23,
     "metadata": {},
     "output_type": "execute_result"
    }
   ],
   "source": [
    "a = [2,3,4,5,6,7,8,9]\n",
    "a[2:4]=[2,3,4]\n",
    "a"
   ]
  },
  {
   "cell_type": "code",
   "execution_count": 12,
   "metadata": {},
   "outputs": [
    {
     "ename": "SyntaxError",
     "evalue": "invalid syntax (<ipython-input-12-6a511a9963bb>, line 1)",
     "output_type": "error",
     "traceback": [
      "\u001b[0;36m  File \u001b[0;32m\"<ipython-input-12-6a511a9963bb>\"\u001b[0;36m, line \u001b[0;32m1\u001b[0m\n\u001b[0;31m    double ACCY=atan2((double)acc_x,(double)acc_z)*180/PI+90;\u001b[0m\n\u001b[0m              ^\u001b[0m\n\u001b[0;31mSyntaxError\u001b[0m\u001b[0;31m:\u001b[0m invalid syntax\n"
     ]
    }
   ],
   "source": [
    "double ACCY=atan2((double)acc_x,(double)acc_z)*180/PI+90;\n",
    "double ACCX=atan2((double)acc_y,(double)acc_z)*180/PI+90;                                                                                                       //ACCY is the theta about y axis calculated from accelerometer data                                                                                            //G_SENS is factor that directly gives the omega from raw data of gyroscope in IMU          \n",
    "dt=0.01;\n",
    "y_theta=0.85*(y_old_theta+GYRY*dt)+0.15*(ACCY);            //complimentary filter \n",
    "x_theta=0.85*(x_old_theta+GYRX*dt)+0.15*(ACCX);\n",
    "y_old_theta=y_theta;\n",
    "x_old_theta=x_theta;\n",
    "pitch = y_theta;\n",
    "roll = x_theta;"
   ]
  },
  {
   "cell_type": "code",
   "execution_count": 24,
   "metadata": {},
   "outputs": [],
   "source": [
    "for i in range(len(time)):\n",
    "    temp=[]\n",
    "    accy = math.atan2(t1[i][0], t1[i][2])*180/PI + 90\n",
    "    accx = math.atan2(t1[i][1],t1[i][2])*80/PI + 90\n",
    "    dt=0.01\n",
    "    t1_theta = 0.85*(t1_old_theta+np.array([t1[i][4],t1[i][3]])*dt)+0.15*np.array([accy,accx])\n",
    "    t1_old_theta = t1_theta\n",
    "    temp.append(t1_theta)\n",
    "    accy = math.atan2(t2[i][0], t2[i][2])*180/PI + 90\n",
    "    accx = math.atan2(t2[i][1],t2[i][2])*80/PI + 90\n",
    "    dt=0.01\n",
    "    t2_theta = 0.85*(t2_old_theta+np.array([t2[i][4],t2[i][3]])*dt)+0.15*np.array([accy,accx])\n",
    "    t2_old_theta = t2_theta\n",
    "    temp.append(t2_theta)\n",
    "    accy = math.atan2(k1[i][0], k1[i][2])*180/PI + 90\n",
    "    accx = math.atan2(k1[i][1],k1[i][2])*80/PI + 90\n",
    "    dt=0.01\n",
    "    k1_theta = 0.85*(k1_old_theta+np.array([k1[i][4],k1[i][3]])*dt)+0.15*np.array([accy,accx])\n",
    "    k1_old_theta = k1_theta\n",
    "    temp.append(k1_theta)\n",
    "    accy = math.atan2(k2[i][0], k2[i][2])*180/PI + 90\n",
    "    accx = math.atan2(k2[i][1],k2[i][2])*80/PI + 90\n",
    "    dt=0.01\n",
    "    k2_theta = 0.85*(k2_old_theta+np.array([k2[i][4],k2[i][3]])*dt)+0.15*np.array([accy,accx])\n",
    "    k2_old_theta = k2_theta\n",
    "    temp.append(k2_theta)\n",
    "    pitch_roll.append(temp)\n",
    "    \n",
    "    "
   ]
  },
  {
   "cell_type": "code",
   "execution_count": 25,
   "metadata": {},
   "outputs": [
    {
     "data": {
      "text/plain": [
       "627"
      ]
     },
     "execution_count": 25,
     "metadata": {},
     "output_type": "execute_result"
    }
   ],
   "source": [
    "len(pitch_roll)"
   ]
  },
  {
   "cell_type": "code",
   "execution_count": 28,
   "metadata": {},
   "outputs": [
    {
     "data": {
      "text/plain": [
       "array([[ 50.82,  68.22,  -4.  ,  -1.  ,  -2.  ],\n",
       "       [ 55.56,  74.51,  -4.  ,   0.  ,   0.  ],\n",
       "       [ 59.55,  79.79,  -3.  ,  -1.  ,   0.  ],\n",
       "       ...,\n",
       "       [ 90.5 , 102.18,  -4.  ,   1.  ,  -1.  ],\n",
       "       [ 90.49, 102.15,  -4.  ,   3.  ,  -1.  ],\n",
       "       [ 90.26, 102.22,  -4.  ,   0.  ,   0.  ]])"
      ]
     },
     "execution_count": 28,
     "metadata": {},
     "output_type": "execute_result"
    }
   ],
   "source": [
    "back"
   ]
  },
  {
   "cell_type": "code",
   "execution_count": null,
   "metadata": {},
   "outputs": [],
   "source": []
  }
 ],
 "metadata": {
  "kernelspec": {
   "display_name": "Python 3",
   "language": "python",
   "name": "python3"
  },
  "language_info": {
   "codemirror_mode": {
    "name": "ipython",
    "version": 3
   },
   "file_extension": ".py",
   "mimetype": "text/x-python",
   "name": "python",
   "nbconvert_exporter": "python",
   "pygments_lexer": "ipython3",
   "version": "3.5.2"
  }
 },
 "nbformat": 4,
 "nbformat_minor": 2
}
